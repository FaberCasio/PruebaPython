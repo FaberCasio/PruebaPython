{
  "nbformat": 4,
  "nbformat_minor": 0,
  "metadata": {
    "colab": {
      "provenance": [],
      "include_colab_link": true
    },
    "kernelspec": {
      "name": "python3",
      "display_name": "Python 3"
    },
    "language_info": {
      "name": "python"
    }
  },
  "cells": [
    {
      "cell_type": "markdown",
      "metadata": {
        "id": "view-in-github",
        "colab_type": "text"
      },
      "source": [
        "<a href=\"https://colab.research.google.com/github/FaberCasio/PruebaPython/blob/main/An%C3%A1lisis_de_la_base_de_datos_Iris.ipynb\" target=\"_parent\"><img src=\"https://colab.research.google.com/assets/colab-badge.svg\" alt=\"Open In Colab\"/></a>"
      ]
    },
    {
      "cell_type": "code",
      "execution_count": 1,
      "metadata": {
        "id": "CYiUnQ8RaMWL",
        "colab": {
          "base_uri": "https://localhost:8080/",
          "height": 364
        },
        "outputId": "3a15a01c-440e-4d4f-fb50-8064ddc0d90e"
      },
      "outputs": [
        {
          "output_type": "error",
          "ename": "FileNotFoundError",
          "evalue": "ignored",
          "traceback": [
            "\u001b[0;31m---------------------------------------------------------------------------\u001b[0m",
            "\u001b[0;31mFileNotFoundError\u001b[0m                         Traceback (most recent call last)",
            "\u001b[0;32m<ipython-input-1-17766f9c315b>\u001b[0m in \u001b[0;36m<cell line: 2>\u001b[0;34m()\u001b[0m\n\u001b[1;32m      1\u001b[0m \u001b[0;32mimport\u001b[0m \u001b[0mpandas\u001b[0m \u001b[0;32mas\u001b[0m \u001b[0mpd\u001b[0m\u001b[0;34m\u001b[0m\u001b[0;34m\u001b[0m\u001b[0m\n\u001b[0;32m----> 2\u001b[0;31m \u001b[0mdf\u001b[0m \u001b[0;34m=\u001b[0m \u001b[0mpd\u001b[0m\u001b[0;34m.\u001b[0m\u001b[0mread_csv\u001b[0m\u001b[0;34m(\u001b[0m\u001b[0;34m\"/content/drive/MyDrive/Flores.csv - Hoja 1.csv\"\u001b[0m\u001b[0;34m)\u001b[0m\u001b[0;34m\u001b[0m\u001b[0;34m\u001b[0m\u001b[0m\n\u001b[0m\u001b[1;32m      3\u001b[0m \u001b[0mdf\u001b[0m\u001b[0;34m\u001b[0m\u001b[0;34m\u001b[0m\u001b[0m\n",
            "\u001b[0;32m/usr/local/lib/python3.10/dist-packages/pandas/util/_decorators.py\u001b[0m in \u001b[0;36mwrapper\u001b[0;34m(*args, **kwargs)\u001b[0m\n\u001b[1;32m    209\u001b[0m                 \u001b[0;32melse\u001b[0m\u001b[0;34m:\u001b[0m\u001b[0;34m\u001b[0m\u001b[0;34m\u001b[0m\u001b[0m\n\u001b[1;32m    210\u001b[0m                     \u001b[0mkwargs\u001b[0m\u001b[0;34m[\u001b[0m\u001b[0mnew_arg_name\u001b[0m\u001b[0;34m]\u001b[0m \u001b[0;34m=\u001b[0m \u001b[0mnew_arg_value\u001b[0m\u001b[0;34m\u001b[0m\u001b[0;34m\u001b[0m\u001b[0m\n\u001b[0;32m--> 211\u001b[0;31m             \u001b[0;32mreturn\u001b[0m \u001b[0mfunc\u001b[0m\u001b[0;34m(\u001b[0m\u001b[0;34m*\u001b[0m\u001b[0margs\u001b[0m\u001b[0;34m,\u001b[0m \u001b[0;34m**\u001b[0m\u001b[0mkwargs\u001b[0m\u001b[0;34m)\u001b[0m\u001b[0;34m\u001b[0m\u001b[0;34m\u001b[0m\u001b[0m\n\u001b[0m\u001b[1;32m    212\u001b[0m \u001b[0;34m\u001b[0m\u001b[0m\n\u001b[1;32m    213\u001b[0m         \u001b[0;32mreturn\u001b[0m \u001b[0mcast\u001b[0m\u001b[0;34m(\u001b[0m\u001b[0mF\u001b[0m\u001b[0;34m,\u001b[0m \u001b[0mwrapper\u001b[0m\u001b[0;34m)\u001b[0m\u001b[0;34m\u001b[0m\u001b[0;34m\u001b[0m\u001b[0m\n",
            "\u001b[0;32m/usr/local/lib/python3.10/dist-packages/pandas/util/_decorators.py\u001b[0m in \u001b[0;36mwrapper\u001b[0;34m(*args, **kwargs)\u001b[0m\n\u001b[1;32m    329\u001b[0m                     \u001b[0mstacklevel\u001b[0m\u001b[0;34m=\u001b[0m\u001b[0mfind_stack_level\u001b[0m\u001b[0;34m(\u001b[0m\u001b[0;34m)\u001b[0m\u001b[0;34m,\u001b[0m\u001b[0;34m\u001b[0m\u001b[0;34m\u001b[0m\u001b[0m\n\u001b[1;32m    330\u001b[0m                 )\n\u001b[0;32m--> 331\u001b[0;31m             \u001b[0;32mreturn\u001b[0m \u001b[0mfunc\u001b[0m\u001b[0;34m(\u001b[0m\u001b[0;34m*\u001b[0m\u001b[0margs\u001b[0m\u001b[0;34m,\u001b[0m \u001b[0;34m**\u001b[0m\u001b[0mkwargs\u001b[0m\u001b[0;34m)\u001b[0m\u001b[0;34m\u001b[0m\u001b[0;34m\u001b[0m\u001b[0m\n\u001b[0m\u001b[1;32m    332\u001b[0m \u001b[0;34m\u001b[0m\u001b[0m\n\u001b[1;32m    333\u001b[0m         \u001b[0;31m# error: \"Callable[[VarArg(Any), KwArg(Any)], Any]\" has no\u001b[0m\u001b[0;34m\u001b[0m\u001b[0;34m\u001b[0m\u001b[0m\n",
            "\u001b[0;32m/usr/local/lib/python3.10/dist-packages/pandas/io/parsers/readers.py\u001b[0m in \u001b[0;36mread_csv\u001b[0;34m(filepath_or_buffer, sep, delimiter, header, names, index_col, usecols, squeeze, prefix, mangle_dupe_cols, dtype, engine, converters, true_values, false_values, skipinitialspace, skiprows, skipfooter, nrows, na_values, keep_default_na, na_filter, verbose, skip_blank_lines, parse_dates, infer_datetime_format, keep_date_col, date_parser, dayfirst, cache_dates, iterator, chunksize, compression, thousands, decimal, lineterminator, quotechar, quoting, doublequote, escapechar, comment, encoding, encoding_errors, dialect, error_bad_lines, warn_bad_lines, on_bad_lines, delim_whitespace, low_memory, memory_map, float_precision, storage_options)\u001b[0m\n\u001b[1;32m    948\u001b[0m     \u001b[0mkwds\u001b[0m\u001b[0;34m.\u001b[0m\u001b[0mupdate\u001b[0m\u001b[0;34m(\u001b[0m\u001b[0mkwds_defaults\u001b[0m\u001b[0;34m)\u001b[0m\u001b[0;34m\u001b[0m\u001b[0;34m\u001b[0m\u001b[0m\n\u001b[1;32m    949\u001b[0m \u001b[0;34m\u001b[0m\u001b[0m\n\u001b[0;32m--> 950\u001b[0;31m     \u001b[0;32mreturn\u001b[0m \u001b[0m_read\u001b[0m\u001b[0;34m(\u001b[0m\u001b[0mfilepath_or_buffer\u001b[0m\u001b[0;34m,\u001b[0m \u001b[0mkwds\u001b[0m\u001b[0;34m)\u001b[0m\u001b[0;34m\u001b[0m\u001b[0;34m\u001b[0m\u001b[0m\n\u001b[0m\u001b[1;32m    951\u001b[0m \u001b[0;34m\u001b[0m\u001b[0m\n\u001b[1;32m    952\u001b[0m \u001b[0;34m\u001b[0m\u001b[0m\n",
            "\u001b[0;32m/usr/local/lib/python3.10/dist-packages/pandas/io/parsers/readers.py\u001b[0m in \u001b[0;36m_read\u001b[0;34m(filepath_or_buffer, kwds)\u001b[0m\n\u001b[1;32m    603\u001b[0m \u001b[0;34m\u001b[0m\u001b[0m\n\u001b[1;32m    604\u001b[0m     \u001b[0;31m# Create the parser.\u001b[0m\u001b[0;34m\u001b[0m\u001b[0;34m\u001b[0m\u001b[0m\n\u001b[0;32m--> 605\u001b[0;31m     \u001b[0mparser\u001b[0m \u001b[0;34m=\u001b[0m \u001b[0mTextFileReader\u001b[0m\u001b[0;34m(\u001b[0m\u001b[0mfilepath_or_buffer\u001b[0m\u001b[0;34m,\u001b[0m \u001b[0;34m**\u001b[0m\u001b[0mkwds\u001b[0m\u001b[0;34m)\u001b[0m\u001b[0;34m\u001b[0m\u001b[0;34m\u001b[0m\u001b[0m\n\u001b[0m\u001b[1;32m    606\u001b[0m \u001b[0;34m\u001b[0m\u001b[0m\n\u001b[1;32m    607\u001b[0m     \u001b[0;32mif\u001b[0m \u001b[0mchunksize\u001b[0m \u001b[0;32mor\u001b[0m \u001b[0miterator\u001b[0m\u001b[0;34m:\u001b[0m\u001b[0;34m\u001b[0m\u001b[0;34m\u001b[0m\u001b[0m\n",
            "\u001b[0;32m/usr/local/lib/python3.10/dist-packages/pandas/io/parsers/readers.py\u001b[0m in \u001b[0;36m__init__\u001b[0;34m(self, f, engine, **kwds)\u001b[0m\n\u001b[1;32m   1440\u001b[0m \u001b[0;34m\u001b[0m\u001b[0m\n\u001b[1;32m   1441\u001b[0m         \u001b[0mself\u001b[0m\u001b[0;34m.\u001b[0m\u001b[0mhandles\u001b[0m\u001b[0;34m:\u001b[0m \u001b[0mIOHandles\u001b[0m \u001b[0;34m|\u001b[0m \u001b[0;32mNone\u001b[0m \u001b[0;34m=\u001b[0m \u001b[0;32mNone\u001b[0m\u001b[0;34m\u001b[0m\u001b[0;34m\u001b[0m\u001b[0m\n\u001b[0;32m-> 1442\u001b[0;31m         \u001b[0mself\u001b[0m\u001b[0;34m.\u001b[0m\u001b[0m_engine\u001b[0m \u001b[0;34m=\u001b[0m \u001b[0mself\u001b[0m\u001b[0;34m.\u001b[0m\u001b[0m_make_engine\u001b[0m\u001b[0;34m(\u001b[0m\u001b[0mf\u001b[0m\u001b[0;34m,\u001b[0m \u001b[0mself\u001b[0m\u001b[0;34m.\u001b[0m\u001b[0mengine\u001b[0m\u001b[0;34m)\u001b[0m\u001b[0;34m\u001b[0m\u001b[0;34m\u001b[0m\u001b[0m\n\u001b[0m\u001b[1;32m   1443\u001b[0m \u001b[0;34m\u001b[0m\u001b[0m\n\u001b[1;32m   1444\u001b[0m     \u001b[0;32mdef\u001b[0m \u001b[0mclose\u001b[0m\u001b[0;34m(\u001b[0m\u001b[0mself\u001b[0m\u001b[0;34m)\u001b[0m \u001b[0;34m->\u001b[0m \u001b[0;32mNone\u001b[0m\u001b[0;34m:\u001b[0m\u001b[0;34m\u001b[0m\u001b[0;34m\u001b[0m\u001b[0m\n",
            "\u001b[0;32m/usr/local/lib/python3.10/dist-packages/pandas/io/parsers/readers.py\u001b[0m in \u001b[0;36m_make_engine\u001b[0;34m(self, f, engine)\u001b[0m\n\u001b[1;32m   1733\u001b[0m                 \u001b[0;32mif\u001b[0m \u001b[0;34m\"b\"\u001b[0m \u001b[0;32mnot\u001b[0m \u001b[0;32min\u001b[0m \u001b[0mmode\u001b[0m\u001b[0;34m:\u001b[0m\u001b[0;34m\u001b[0m\u001b[0;34m\u001b[0m\u001b[0m\n\u001b[1;32m   1734\u001b[0m                     \u001b[0mmode\u001b[0m \u001b[0;34m+=\u001b[0m \u001b[0;34m\"b\"\u001b[0m\u001b[0;34m\u001b[0m\u001b[0;34m\u001b[0m\u001b[0m\n\u001b[0;32m-> 1735\u001b[0;31m             self.handles = get_handle(\n\u001b[0m\u001b[1;32m   1736\u001b[0m                 \u001b[0mf\u001b[0m\u001b[0;34m,\u001b[0m\u001b[0;34m\u001b[0m\u001b[0;34m\u001b[0m\u001b[0m\n\u001b[1;32m   1737\u001b[0m                 \u001b[0mmode\u001b[0m\u001b[0;34m,\u001b[0m\u001b[0;34m\u001b[0m\u001b[0;34m\u001b[0m\u001b[0m\n",
            "\u001b[0;32m/usr/local/lib/python3.10/dist-packages/pandas/io/common.py\u001b[0m in \u001b[0;36mget_handle\u001b[0;34m(path_or_buf, mode, encoding, compression, memory_map, is_text, errors, storage_options)\u001b[0m\n\u001b[1;32m    854\u001b[0m         \u001b[0;32mif\u001b[0m \u001b[0mioargs\u001b[0m\u001b[0;34m.\u001b[0m\u001b[0mencoding\u001b[0m \u001b[0;32mand\u001b[0m \u001b[0;34m\"b\"\u001b[0m \u001b[0;32mnot\u001b[0m \u001b[0;32min\u001b[0m \u001b[0mioargs\u001b[0m\u001b[0;34m.\u001b[0m\u001b[0mmode\u001b[0m\u001b[0;34m:\u001b[0m\u001b[0;34m\u001b[0m\u001b[0;34m\u001b[0m\u001b[0m\n\u001b[1;32m    855\u001b[0m             \u001b[0;31m# Encoding\u001b[0m\u001b[0;34m\u001b[0m\u001b[0;34m\u001b[0m\u001b[0m\n\u001b[0;32m--> 856\u001b[0;31m             handle = open(\n\u001b[0m\u001b[1;32m    857\u001b[0m                 \u001b[0mhandle\u001b[0m\u001b[0;34m,\u001b[0m\u001b[0;34m\u001b[0m\u001b[0;34m\u001b[0m\u001b[0m\n\u001b[1;32m    858\u001b[0m                 \u001b[0mioargs\u001b[0m\u001b[0;34m.\u001b[0m\u001b[0mmode\u001b[0m\u001b[0;34m,\u001b[0m\u001b[0;34m\u001b[0m\u001b[0;34m\u001b[0m\u001b[0m\n",
            "\u001b[0;31mFileNotFoundError\u001b[0m: [Errno 2] No such file or directory: '/content/drive/MyDrive/Flores.csv - Hoja 1.csv'"
          ]
        }
      ],
      "source": [
        "import pandas as pd\n",
        "df = pd.read_csv(\"/content/drive/MyDrive/Flores.csv - Hoja 1.csv\")\n",
        "df"
      ]
    },
    {
      "cell_type": "code",
      "source": [
        "from google.colab import drive\n",
        "drive.mount('/content/drive')"
      ],
      "metadata": {
        "id": "jxrGAvObo_Gs",
        "colab": {
          "base_uri": "https://localhost:8080/"
        },
        "outputId": "d25051dc-8748-457a-8064-19d955eea407"
      },
      "execution_count": null,
      "outputs": [
        {
          "output_type": "stream",
          "name": "stdout",
          "text": [
            "Mounted at /content/drive\n"
          ]
        }
      ]
    },
    {
      "cell_type": "code",
      "source": [
        "import matplotlib.pyplot as plt\n",
        "\n",
        "datos_setosa = df.iloc[0:50]\n",
        "l_sepalo_setosa=datos_setosa['Largo de sépalo']\n",
        "#print(l_sepalo_setosa)\n",
        "plt.hist(l_sepalo_setosa)\n",
        "plt.show()#consigna 2\n",
        "\n",
        "datos_especies=datos_setosa.describe()\n",
        "plt.boxplot(datos_especies)#consigna 3 (se repite en todas lo mismo)\n",
        "\n",
        "caract_l_sepalo_seto=l_sepalo_setosa.describe()\n",
        "plt.boxplot(caract_l_sepalo_seto)#consigna 4"
      ],
      "metadata": {
        "id": "n7Q3EbLrfiSm"
      },
      "execution_count": null,
      "outputs": []
    },
    {
      "cell_type": "code",
      "source": [
        "import matplotlib.pyplot as plt\n",
        "\n",
        "datos_versicolor=df.iloc[50:100]\n",
        "l_sepalo_versicolor=datos_versicolor['Largo de sépalo']\n",
        "#print(l_sepalo_versicolor)\n",
        "\n",
        "plt.hist(l_sepalo_versicolor)\n",
        "plt.show()\n",
        "\n",
        "caract_l_sepalo_vers=l_sepalo_versicolor.describe()\n",
        "plt.boxplot(caract_l_sepalo_vers)"
      ],
      "metadata": {
        "id": "upBic986klPw"
      },
      "execution_count": null,
      "outputs": []
    },
    {
      "cell_type": "code",
      "source": [
        "import matplotlib.pyplot as plt\n",
        "\n",
        "datos_virginica=df.iloc[100:150]\n",
        "l_sepalo_virginica=datos_virginica['Largo de sépalo']\n",
        "#print(l_sepalo_virginica)\n",
        "\n",
        "plt.hist(l_sepalo_virginica)\n",
        "plt.show()\n",
        "\n",
        "caract_l_sepalo_virg=l_sepalo_virginica.describe()\n",
        "plt.boxplot(caract_l_sepalo_virg)"
      ],
      "metadata": {
        "id": "lyaOlItcorSC"
      },
      "execution_count": null,
      "outputs": []
    },
    {
      "cell_type": "code",
      "source": [
        "import matplotlib.pyplot as plt\n",
        "\n",
        "datos_setosa=df.iloc[0:50]\n",
        "a_sepalo_setosa=datos_setosa['Ancho de sépalo']\n",
        "#print(a_sepalo_setosa)\n",
        "\n",
        "plt.hist(a_sepalo_setosa)\n",
        "plt.show()\n",
        "\n",
        "caract_a_sepalo_seto=a_sepalo_setosa.describe()\n",
        "plt.boxplot(caract_a_sepalo_seto)"
      ],
      "metadata": {
        "id": "TdYbB4Kz4L6c"
      },
      "execution_count": null,
      "outputs": []
    },
    {
      "cell_type": "code",
      "source": [
        "import matplotlib.pyplot as plt\n",
        "\n",
        "datos_setosa=df.iloc[0:50]\n",
        "a_sepalo_setosa=datos_setosa['Ancho de sépalo']\n",
        "l_sepalo_setosa=datos_setosa['Largo de sépalo']\n",
        "\n",
        "plt.hist(a_sepalo_setosa)\n",
        "plt.hist(l_sepalo_setosa)\n",
        "plt.show()\n",
        "\n",
        "caract_a_sepalo_seto=a_sepalo_setosa.describe()\n",
        "caract_l_sepalo_seto=l_sepalo_setosa.describe()\n",
        "plt.boxplot(caract_a_sepalo_seto)#consigna 5 parte 1\n",
        "plt.boxplot(caract_l_sepalo_seto)\n",
        "plt.show()\n",
        "\n",
        "plt.scatter(caract_a_sepalo_seto, caract_l_sepalo_seto)#consigna 5 parte 2\n",
        "plt.show()"
      ],
      "metadata": {
        "id": "m2mwsdKvSKiW"
      },
      "execution_count": null,
      "outputs": []
    },
    {
      "cell_type": "code",
      "source": [
        "import matplotlib.pyplot as plt\n",
        "\n",
        "datos_versicolor=df.iloc[50:100]\n",
        "a_sepalo_versicolor=datos_versicolor['Ancho de sépalo']\n",
        "#print(a_sepalo_versicolor)\n",
        "\n",
        "plt.hist(a_sepalo_versicolor)\n",
        "plt.show()\n",
        "\n",
        "caract_a_sepalo_vers=a_sepalo_versicolor.describe()\n",
        "plt.boxplot(caract_a_sepalo_vers)"
      ],
      "metadata": {
        "id": "oj-a0IXJ4wc7"
      },
      "execution_count": null,
      "outputs": []
    },
    {
      "cell_type": "code",
      "source": [
        "import matplotlib.pyplot as plt\n",
        "\n",
        "datos_versicolor=df.iloc[50:100]\n",
        "a_sepalo_versicolor=datos_versicolor['Ancho de sépalo']\n",
        "l_sepalo_versicolor=datos_versicolor['Largo de sépalo']\n",
        "\n",
        "plt.hist(a_sepalo_versicolor)\n",
        "plt.hist(l_sepalo_versicolor)\n",
        "plt.show()\n",
        "\n",
        "caract_a_sepalo_vers=a_sepalo_versicolor.describe()\n",
        "caract_l_sepalo_vers=l_sepalo_versicolor.describe()\n",
        "plt.boxplot(caract_a_sepalo_vers)#consigna 5 parte 1\n",
        "plt.boxplot(caract_l_sepalo_vers)\n",
        "plt.show()\n",
        "\n",
        "plt.scatter(caract_a_sepalo_vers, caract_l_sepalo_vers)#consigna 5 parte 2\n",
        "plt.show()"
      ],
      "metadata": {
        "id": "VS9dYXlxR2wb"
      },
      "execution_count": null,
      "outputs": []
    },
    {
      "cell_type": "code",
      "source": [
        "import matplotlib.pyplot as plt\n",
        "\n",
        "datos_virginica=df.iloc[100:150]\n",
        "a_sepalo_virginica=datos_virginica['Ancho de sépalo']\n",
        "#print(a_sepalo_virginica)\n",
        "\n",
        "plt.hist(a_sepalo_virginica)\n",
        "plt.show()\n",
        "\n",
        "caract_a_sepalo_virg=a_sepalo_virginica.describe()\n",
        "plt.boxplot(caract_a_sepalo_virg)"
      ],
      "metadata": {
        "id": "i396ePOU41wK"
      },
      "execution_count": null,
      "outputs": []
    },
    {
      "cell_type": "code",
      "source": [
        "import matplotlib.pyplot as plt\n",
        "\n",
        "datos_virginica=df.iloc[100:150]\n",
        "a_sepalo_virginica=datos_virginica['Ancho de sépalo']\n",
        "l_sepalo_virginica=datos_virginica['Largo de sépalo']\n",
        "\n",
        "plt.hist(a_sepalo_virginica)\n",
        "plt.hist(l_sepalo_virginica)\n",
        "plt.show()\n",
        "\n",
        "caract_a_sepalo_virg=a_sepalo_virginica.describe()\n",
        "caract_l_sepalo_virg=l_sepalo_virginica.describe()\n",
        "plt.boxplot(caract_a_sepalo_virg)#consigna 5 parte 1\n",
        "plt.boxplot(caract_l_sepalo_virg)\n",
        "plt.show()\n",
        "\n",
        "plt.scatter(caract_a_sepalo_virg, caract_l_sepalo_virg)#consigna 5 parte 2\n",
        "plt.show()"
      ],
      "metadata": {
        "id": "MkP4Gau0RfZz"
      },
      "execution_count": null,
      "outputs": []
    },
    {
      "cell_type": "code",
      "source": [
        "import matplotlib.pyplot as plt\n",
        "\n",
        "datos_setosa=df.iloc[0:50]\n",
        "l_petalo_setosa=datos_setosa['Largo de pétalo']\n",
        "#print(l_petalo_setosa)\n",
        "\n",
        "plt.hist(l_petalo_setosa)\n",
        "plt.show()\n",
        "\n",
        "caract_l_petalo_seto=l_petalo_setosa.describe()\n",
        "plt.boxplot(caract_l_petalo_seto)"
      ],
      "metadata": {
        "id": "dKe4icc45Niz"
      },
      "execution_count": null,
      "outputs": []
    },
    {
      "cell_type": "code",
      "source": [
        "import matplotlib.pyplot as plt\n",
        "\n",
        "datos_versicolor=df.iloc[50:100]\n",
        "l_petalo_versicolor=datos_versicolor['Largo de pétalo']\n",
        "#print(l_petalo_versicolor)\n",
        "\n",
        "plt.hist(l_petalo_versicolor)\n",
        "plt.show()\n",
        "\n",
        "caract_l_petalo_vers=l_petalo_versicolor.describe()\n",
        "plt.boxplot(caract_l_petalo_vers)"
      ],
      "metadata": {
        "id": "5zHUgpAl5hn8"
      },
      "execution_count": null,
      "outputs": []
    },
    {
      "cell_type": "code",
      "source": [
        "import matplotlib.pyplot as plt\n",
        "\n",
        "datos_virginica=df.iloc[100:150]\n",
        "l_petalo_virginica=datos_virginica['Largo de pétalo']\n",
        "#print(l_petalo_virginica)\n",
        "\n",
        "plt.hist(l_petalo_virginica)\n",
        "plt.show()\n",
        "\n",
        "caract_l_petalo_virg=l_petalo_virginica.describe()\n",
        "plt.boxplot(caract_l_petalo_virg)"
      ],
      "metadata": {
        "id": "L6MBfDNw5or0"
      },
      "execution_count": null,
      "outputs": []
    },
    {
      "cell_type": "code",
      "source": [
        "import matplotlib.pyplot as plt\n",
        "\n",
        "datos_setosa=df.iloc[0:50]\n",
        "a_petalo_setosa=datos_setosa['Ancho de pétalo']\n",
        "#print(a_petalo_setosa)\n",
        "\n",
        "plt.hist(a_petalo_setosa)\n",
        "plt.show()\n",
        "\n",
        "caract_a_petalo_seto=a_petalo_setosa.describe()\n",
        "plt.boxplot(caract_a_petalo_seto)"
      ],
      "metadata": {
        "id": "W88TR3bE5_is"
      },
      "execution_count": null,
      "outputs": []
    },
    {
      "cell_type": "code",
      "source": [
        "import matplotlib.pyplot as plt\n",
        "\n",
        "datos_setosa=df.iloc[0:50]\n",
        "a_petalo_setosa=datos_setosa['Ancho de pétalo']\n",
        "l_petalo_setosa=datos_setosa['Largo de pétalo']\n",
        "\n",
        "plt.hist(a_petalo_setosa)\n",
        "plt.hist(l_petalo_setosa)\n",
        "plt.show()\n",
        "\n",
        "caract_a_petalo_seto=a_petalo_setosa.describe()\n",
        "caract_l_petalo_seto=l_petalo_setosa.describe()\n",
        "plt.boxplot(caract_a_petalo_seto)#consigna 5 parte 1\n",
        "plt.boxplot(caract_l_petalo_seto)\n",
        "plt.show()\n",
        "\n",
        "plt.scatter(caract_a_petalo_seto, caract_l_petalo_seto)#consigna 5 parte 2\n",
        "plt.show()"
      ],
      "metadata": {
        "id": "3jK1aXidRK7b"
      },
      "execution_count": null,
      "outputs": []
    },
    {
      "cell_type": "code",
      "source": [
        "import matplotlib.pyplot as plt\n",
        "\n",
        "datos_versicolor=df.iloc[50:100]\n",
        "a_petalo_versicolor=datos_versicolor['Ancho de pétalo']\n",
        "#print(a_petalo_versicolor)\n",
        "\n",
        "plt.hist(a_petalo_versicolor)\n",
        "plt.show()\n",
        "\n",
        "caract_a_petalo_vers=a_petalo_versicolor.describe()\n",
        "plt.boxplot(caract_a_petalo_vers)"
      ],
      "metadata": {
        "id": "4kQZHdm46VCy"
      },
      "execution_count": null,
      "outputs": []
    },
    {
      "cell_type": "code",
      "source": [
        "import matplotlib.pyplot as plt\n",
        "\n",
        "datos_versicolor=df.iloc[50:100]\n",
        "a_petalo_versicolor=datos_versicolor['Ancho de pétalo']\n",
        "l_petalo_versicolor=datos_versicolor['Largo de pétalo']\n",
        "\n",
        "plt.hist(a_petalo_versicolor)\n",
        "plt.hist(l_petalo_versicolor)\n",
        "plt.show()\n",
        "\n",
        "caract_a_petalo_vers=a_petalo_versicolor.describe()\n",
        "caract_l_petalo_vers=l_petalo_versicolor.describe()\n",
        "plt.boxplot(caract_a_petalo_vers)#consigna 5 parte 1\n",
        "plt.boxplot(caract_l_petalo_vers)\n",
        "plt.show()\n",
        "\n",
        "plt.scatter(caract_a_petalo_vers, caract_l_petalo_vers)#consigna 5 parte 2\n",
        "plt.show()"
      ],
      "metadata": {
        "id": "SSb5nF3-QgJ7"
      },
      "execution_count": null,
      "outputs": []
    },
    {
      "cell_type": "code",
      "source": [
        "import matplotlib.pyplot as plt\n",
        "\n",
        "datos_virginica=df.iloc[100:150]\n",
        "a_petalo_virginica=datos_virginica['Ancho de pétalo']\n",
        "#print(a_petalo_virginica)\n",
        "\n",
        "plt.hist(a_petalo_virginica)\n",
        "plt.show()\n",
        "\n",
        "caract_a_petalo_virg=a_petalo_virginica.describe()\n",
        "plt.boxplot(caract_a_petalo_virg)"
      ],
      "metadata": {
        "id": "QzxqySb66c1D"
      },
      "execution_count": null,
      "outputs": []
    },
    {
      "cell_type": "code",
      "source": [
        "import matplotlib.pyplot as plt\n",
        "datos_virginica=df.iloc[100:150]\n",
        "l_petalo_virginica=datos_virginica['Largo de pétalo']\n",
        "a_petalo_virginica=datos_virginica['Ancho de pétalo']\n",
        "\n",
        "plt.hist(l_petalo_virginica)\n",
        "plt.hist(a_petalo_virginica)\n",
        "plt.show()\n",
        "\n",
        "caract_l_petalo_virg=l_petalo_virginica.describe()\n",
        "caract_a_petalo_virg=a_petalo_virginica.describe()\n",
        "plt.boxplot(caract_l_petalo_virg)#consigna 5 parte 1\n",
        "plt.boxplot(caract_a_petalo_virg)\n",
        "plt.show()\n",
        "\n",
        "plt.scatter(caract_l_petalo_virg,caract_a_petalo_virg)#consigna 5 parte 2\n",
        "plt.show()\n",
        "\n"
      ],
      "metadata": {
        "id": "X1jv1hDONzL5"
      },
      "execution_count": null,
      "outputs": []
    }
  ]
}